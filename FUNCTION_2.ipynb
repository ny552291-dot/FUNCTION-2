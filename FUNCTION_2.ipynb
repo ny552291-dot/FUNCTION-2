{
  "nbformat": 4,
  "nbformat_minor": 0,
  "metadata": {
    "colab": {
      "provenance": []
    },
    "kernelspec": {
      "name": "python3",
      "display_name": "Python 3"
    },
    "language_info": {
      "name": "python"
    }
  },
  "cells": [
    {
      "cell_type": "markdown",
      "source": [
        "function"
      ],
      "metadata": {
        "id": "ApcB5y12Wr3y"
      }
    },
    {
      "cell_type": "code",
      "execution_count": 2,
      "metadata": {
        "colab": {
          "base_uri": "https://localhost:8080/",
          "height": 35
        },
        "id": "YrD-ZrmYWp_2",
        "outputId": "5223bb69-f250-4267-9155-9101943e337d"
      },
      "outputs": [
        {
          "output_type": "execute_result",
          "data": {
            "text/plain": [
              "'\\nthe main diffrence in the funnction and python.\\n'"
            ],
            "application/vnd.google.colaboratory.intrinsic+json": {
              "type": "string"
            }
          },
          "metadata": {},
          "execution_count": 2
        }
      ],
      "source": [
        "# what is a python ?\n",
        "\"\"\"\n",
        "python is a language of computer .\n",
        "\"\"\"\n",
        "# what is diffrence b/w function and phthon ?\n",
        "\"\"\"\n",
        "the main diffrence in the funnction and python.\n",
        "\"\"\"\n"
      ]
    }
  ]
}